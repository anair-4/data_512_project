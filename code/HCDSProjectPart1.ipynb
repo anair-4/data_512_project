{
 "cells": [
  {
   "cell_type": "code",
   "execution_count": null,
   "id": "a02a7059",
   "metadata": {},
   "outputs": [],
   "source": [
    "#\n",
    "#    IMPORTS\n",
    "# \n",
    "\n",
    "#    Import some standard python modules\n",
    "import os, json, time\n",
    "#\n",
    "#    The module pyproj is a standard module that can be installed using pip or your other favorite\n",
    "#    installation tool. This module provides tools to convert between different geodesic coordinate systems\n",
    "#    and for calculating distances between points (coordinates) in a specific geodesic system.\n",
    "#\n",
    "from pyproj import Transformer, Geod\n",
    "#\n",
    "#    The 'wildfire' module is a user module. This module is available from the course website. The module\n",
    "#    includes one object, a Reader, that can be used to read the GeoJSON files associated with the\n",
    "#    wildefire dataset. The module also contains a sample datafile that is GeoJSON compliant and that\n",
    "#    contains a small number of California wildfires extracted from the main wildfire dataset.\n",
    "#    \n",
    "from wildfire import Reader \n",
    "#\n",
    "#    There is a GeoJSON reader that you might try if you wanted to read the data. It has its own quirks.\n",
    "#    There will be an example below that reads the sample file \"Wildfire_short_sample.json\"\n",
    "#    \n",
    "import geojson\n",
    "\n",
    "import pandas as pd"
   ]
  },
  {
   "cell_type": "markdown",
   "id": "9c97d092",
   "metadata": {},
   "source": [
    "Here, we use the 'wildfire' module to create an instance of the Reader class. We open the data file and print out the headers in order to view the fields present in the data.\n",
    "\n",
    "In the following cells we provide small code snippets that do the following:\n",
    "\n",
    "Create a wildfire Reader() object and use it to open the sample data file. Once, opened, we have access to the header information so we print that to show the structure of that data.\n",
    "Use the Reader() object and the next() method to read the set of wildfire features. \n",
    "Access the geometry of the feature to get the 'ring' boundary of that specific fire - which is a list of geodetic coordinates.\n",
    "\n",
    "Another note regarding terminology. In the GeoJSON standard, something that is to be represented geographically is generically called a 'feature'. In the case of the wildfire dataset every 'feature' is a wildfire. These terms are used somewhat interchangably below."
   ]
  },
  {
   "cell_type": "code",
   "execution_count": null,
   "id": "bf5c2244",
   "metadata": {},
   "outputs": [],
   "source": [
    "reader = Reader.Reader()\n",
    "reader.open(\"GeoJSON Exports/USGS_Wildland_Fire_Combined_Dataset.json\")"
   ]
  },
  {
   "cell_type": "code",
   "execution_count": null,
   "id": "b8e0b65b",
   "metadata": {},
   "outputs": [],
   "source": [
    "header_dict = reader.header()\n",
    "header_keys = list(header_dict.keys())\n",
    "print(\"The header has the following keys:\")\n",
    "print(header_keys)\n",
    "print()\n",
    "print(\"Header Dictionary\")\n",
    "print(json.dumps(header_dict,indent=4))"
   ]
  },
  {
   "cell_type": "code",
   "execution_count": null,
   "id": "04876700",
   "metadata": {},
   "outputs": [],
   "source": [
    "feature_list = list()\n",
    "feature_count = 0\n",
    "# A rewind() on the reader object makes sure we're at the start of the feature list\n",
    "# This way, we can execute this cell multiple times and get the same result \n",
    "reader.rewind()\n",
    "# Now, read through each of the features, saving them as dictionaries into a list\n",
    "feature = reader.next()\n",
    "while feature:\n",
    "    feature_list.append(feature)\n",
    "    feature_count += 1\n",
    "    # if we're loading a lot of features, print progress\n",
    "    if (feature_count % 10000) == 0:\n",
    "        print(f\"Loaded {feature_count} features\")\n",
    "    # loaded the max we're allowed then break\n",
    "    feature = reader.next()\n",
    "#\n",
    "#    Print the number of items (features) we think we loaded\n",
    "print(f\"Loaded a total of {feature_count} features\")\n",
    "#\n",
    "#    Just a validation check - did all the items we loaded get into the list?\n",
    "print(f\"Variable 'feature_list' contains {len(feature_list)} features\")"
   ]
  },
  {
   "cell_type": "markdown",
   "id": "8c5d8c38",
   "metadata": {},
   "source": [
    "The following helper functions will allow us to calculate the shortest and average distance from the fire to te city.\n",
    "\n",
    "The first bit of code finds the point on the perimiter with the shortest distance to the city (place) and returns the distance as well as the lat,lon of the perimeter point.\n",
    "\n",
    "The second bit of code calculates the average distance of all perimeter points to the city (place) and returns that average as the distance. This is not quite what the centroid would be, but it is probably fairly close.\n",
    "\n",
    "These are two reasonable ways to think about possible distance to a fire. But both require computing distance to a whole set of points on the perimeter of a fire."
   ]
  },
  {
   "cell_type": "code",
   "execution_count": null,
   "id": "436e9e23",
   "metadata": {},
   "outputs": [],
   "source": [
    "# define helper functions for the tasks\n",
    "# 1. \n",
    "#\n",
    "#    Transform feature geometry data\n",
    "#\n",
    "#    The function takes one parameter, a list of ESRI:102008 coordinates that will be transformed to EPSG:4326\n",
    "#    The function returns a list of coordinates in EPSG:4326\n",
    "def convert_ring_to_epsg4326(ring_data=None):\n",
    "    converted_ring = list()\n",
    "    #\n",
    "    # We use a pyproj transformer that converts from ESRI:102008 to EPSG:4326 to transform the list of coordinates\n",
    "    to_epsg4326 = Transformer.from_crs(\"ESRI:102008\",\"EPSG:4326\")\n",
    "    # We'll run through the list transforming each ESRI:102008 x,y coordinate into a decimal degree lat,lon\n",
    "    for coord in ring_data:\n",
    "        lat,lon = to_epsg4326.transform(coord[0],coord[1])\n",
    "        new_coord = lat,lon\n",
    "        converted_ring.append(new_coord)\n",
    "    return converted_ring\n",
    "\n",
    "# 2.\n",
    "#    \n",
    "#    The function takes two parameters\n",
    "#        A place - which is coordinate point (list or tuple with two items, (lat,lon) in decimal degrees EPSG:4326\n",
    "#        Ring_data - a list of decimal degree coordinates for the fire boundary\n",
    "#\n",
    "#    The function returns a list containing the shortest distance to the perimeter and the point where that is\n",
    "#\n",
    "def shortest_distance_from_place_to_fire_perimeter(place=None,ring_data=None):\n",
    "    # convert the ring data to the right coordinate system\n",
    "    ring = convert_ring_to_epsg4326(ring_data)    \n",
    "    # create a epsg4326 compliant object - which is what the WGS84 ellipsoid is\n",
    "    geodcalc = Geod(ellps='WGS84')\n",
    "    closest_point = list()\n",
    "    # run through each point in the converted ring data\n",
    "    for point in ring:\n",
    "        # calculate the distance\n",
    "        d = geodcalc.inv(place[1],place[0],point[1],point[0])\n",
    "        # convert the distance to miles\n",
    "        distance_in_miles = d[2]*0.00062137\n",
    "        # if it's closer to the city than the point we have, save it\n",
    "        if not closest_point:\n",
    "            closest_point.append(distance_in_miles)\n",
    "            closest_point.append(point)\n",
    "        elif closest_point and closest_point[0]>distance_in_miles:\n",
    "            closest_point = list()\n",
    "            closest_point.append(distance_in_miles)\n",
    "            closest_point.append(point)\n",
    "    return closest_point\n",
    "\n",
    "\n",
    "# 3.\n",
    "#    \n",
    "#    The function takes two parameters\n",
    "#        A place - which is coordinate point (list or tuple with two items, (lat,lon) in decimal degrees EPSG:4326\n",
    "#        Ring_data - a list of decimal degree coordinates for the fire boundary\n",
    "#\n",
    "#    The function returns the average miles from boundary to the place\n",
    "#\n",
    "def average_distance_from_place_to_fire_perimeter(place=None,ring_data=None):\n",
    "    # convert the ring data to the right coordinate system\n",
    "    ring = convert_ring_to_epsg4326(ring_data)    \n",
    "    # create a epsg4326 compliant object - which is what the WGS84 ellipsoid is\n",
    "    geodcalc = Geod(ellps='WGS84')\n",
    "    # create a list to store our results\n",
    "    distances_in_meters = list()\n",
    "    # run through each point in the converted ring data\n",
    "    for point in ring:\n",
    "        # calculate the distance\n",
    "        d = geodcalc.inv(place[1],place[0],point[1],point[0])\n",
    "        distances_in_meters.append(d[2])\n",
    "    #print(\"Got the following list:\",distances_in_meters)\n",
    "    # convert meters to miles\n",
    "    distances_in_miles = [meters*0.00062137 for meters in distances_in_meters]\n",
    "    # the esri polygon shape (the ring) requires that the first and last coordinates be identical to 'close the region\n",
    "    # we remove one of them so that we don't bias our average by having two of the same point\n",
    "    distances_in_miles_no_dup = distances_in_miles[1:]\n",
    "    # now, average miles\n",
    "    average = sum(distances_in_miles_no_dup)/len(distances_in_miles_no_dup)\n",
    "    return average"
   ]
  },
  {
   "cell_type": "code",
   "execution_count": null,
   "id": "abe62908",
   "metadata": {},
   "outputs": [],
   "source": [
    "city_latlon = [38.052147, -122.153893]\n",
    "\n",
    "final_wildfire_data = []\n",
    "\n",
    "for wildfire_feature in feature_list:\n",
    "    \n",
    "    fire_year = wildfire_feature['attributes']['Fire_Year']\n",
    "    fire_name = wildfire_feature['attributes']['Listed_Fire_Names'].split(',')[0]\n",
    "    \n",
    "    print(f\"Analyzing wildfire {fire_name} in the year {fire_year}.\")\n",
    "    \n",
    "    if fire_year >= 1963:\n",
    "        \n",
    "        # Get the geometry for the feature we pulled from the feature_list\n",
    "        wildfire_geometry = wildfire_feature['geometry']\n",
    "        \n",
    "        # Get all the coordinates for the fire boundary\n",
    "        if list(wildfire_feature['geometry'].keys())[0] == 'curveRings':\n",
    "            continue;\n",
    "\n",
    "        ring_data = wildfire_feature['geometry']['rings'][0]\n",
    "        \n",
    "        # Compute the average distance between the fire boundary and the city of interest\n",
    "        distance = average_distance_from_place_to_fire_perimeter(city_latlon,ring_data)\n",
    "        \n",
    "        print((f\"Wildfire found to have an average distance of {distance:1.2f} miles from Benicia, California\"))\n",
    "        \n",
    "        if distance <= 1250:\n",
    "            wildfire_feature['attributes']['Distance'] = distance\n",
    "            final_wildfire_data.append(wildfire_feature['attributes'])\n",
    "    "
   ]
  },
  {
   "cell_type": "code",
   "execution_count": null,
   "id": "341351cf",
   "metadata": {},
   "outputs": [],
   "source": [
    "# Specify the file path where you want to save the JSON data\n",
    "file_path = \"wildfire_data_bencia_ca.json\"\n",
    "\n",
    "# Open the file in write mode and save the data as JSON\n",
    "with open(file_path, 'w') as json_file:\n",
    "    json.dump(final_wildfire_data, json_file)"
   ]
  },
  {
   "cell_type": "markdown",
   "id": "ae08a265",
   "metadata": {},
   "source": [
    "We print one of the features just to explore the dataset's attributes."
   ]
  },
  {
   "cell_type": "code",
   "execution_count": null,
   "id": "ab76f9b2",
   "metadata": {},
   "outputs": [],
   "source": [
    "final_wildfire_data[0]"
   ]
  },
  {
   "cell_type": "markdown",
   "id": "9e279bb9",
   "metadata": {},
   "source": [
    "Creating a Smoke Estimate\n",
    "\n",
    "Having reviewed the metadata and looked over what the features in the dataset look like, I have concluded that a reasonable smoke estimate could be derived from the following factors:\n",
    "1. The GIS calculated hectares of the fire polygon calculated by using the Calculate Geometry tool in ArcGIS Pro - GIS Hectares\n",
    "2. The average distance from the fire boundary and city of interest ie Benicia, CA - Distance\n",
    "\n",
    "It is a reasonable assumption that a fire spread over a larger area will generate more smoke. Similarly, a fire burning further away from the city will have less impact on the city in terms of smoke. Based on these two assumptions, the formula that I will be using for the smoke estimate is:\n",
    "\n",
    "smoke estimate = (GIS_Hectares * 0.00386)/Distance \n",
    "\n",
    "Note: The GIS_Hectares value is multiplied by 0.00386 in order to convert the unit to miles^2.\n"
   ]
  },
  {
   "cell_type": "code",
   "execution_count": null,
   "id": "082417c9",
   "metadata": {},
   "outputs": [],
   "source": [
    "wildfire_data_with_estimate = final_wildfire_data\n",
    "\n",
    "for wf_feature in wildfire_data_with_estimate:\n",
    "    try:\n",
    "        area_of_fire = wf_feature['GIS_Hectares']*0.00386\n",
    "        dist_of_fire = wf_feature['Distance']\n",
    "    except:\n",
    "        print(\"There is a missing attribute\")\n",
    "    smoke_estimate = area_of_fire/dist_of_fire\n",
    "    wf_feature['Smoke_Estimate'] = smoke_estimate"
   ]
  },
  {
   "cell_type": "markdown",
   "id": "60809ac7",
   "metadata": {},
   "source": [
    "After calculating the smoke estimate, we create a dataframe to store the necessary attributes for future analysis."
   ]
  },
  {
   "cell_type": "code",
   "execution_count": null,
   "id": "055269b5",
   "metadata": {},
   "outputs": [],
   "source": [
    "wildfire_est_list = []\n",
    "for wf_feature in wildfire_data_with_estimate:\n",
    "    feature = {}\n",
    "    feature['USGS_Assigned_ID'] = wf_feature['USGS_Assigned_ID']\n",
    "    feature['Assigned_Fire_Type'] = wf_feature['Assigned_Fire_Type']\n",
    "    feature['Fire_Year'] = wf_feature['Fire_Year']\n",
    "    feature['GIS_Hectares'] = wf_feature['GIS_Hectares']\n",
    "    feature['GIS_Acres'] = wf_feature['GIS_Acres']\n",
    "    feature['Listed_Fire_Names'] = wf_feature['Listed_Fire_Names']\n",
    "    feature['Distance'] = wf_feature['Distance']\n",
    "    feature['Smoke_Estimate'] = wf_feature['Smoke_Estimate']\n",
    "    wildfire_est_list.append(feature)\n",
    "# convert to a dataframe\n",
    "wildfire_df = pd.DataFrame(wildfire_est_list)\n",
    "wildfire_df.head()"
   ]
  },
  {
   "cell_type": "markdown",
   "id": "c2867e6e",
   "metadata": {},
   "source": [
    "Next, we scale the smoke estimates using the minmax scaling technique in order to make the comparable to AQI for the next part of our analysis. "
   ]
  },
  {
   "cell_type": "code",
   "execution_count": null,
   "id": "c9688831",
   "metadata": {},
   "outputs": [],
   "source": [
    "original_min = wildfire_df['Smoke_Estimate'].min()\n",
    "original_max = wildfire_df['Smoke_Estimate'].max()\n",
    "new_max = 500\n",
    "new_min = 0\n",
    "wildfire_df['Smoke_Estimate_Scaled'] = (wildfire_df['Smoke_Estimate'] - original_min) / (original_max - original_min) * (new_max - new_min) + new_min"
   ]
  },
  {
   "cell_type": "code",
   "execution_count": null,
   "id": "648671ba",
   "metadata": {},
   "outputs": [],
   "source": [
    "wildfire_df['Smoke_Estimate_Scaled'].describe()"
   ]
  },
  {
   "cell_type": "code",
   "execution_count": null,
   "id": "258cf1f1",
   "metadata": {},
   "outputs": [],
   "source": [
    "temp = wildfire_df"
   ]
  },
  {
   "cell_type": "markdown",
   "id": "84dcc948",
   "metadata": {},
   "source": [
    "We remove all the wildfires with a scaled smoke estimate lower than 10 as their impact is very low. The only way to get such a low estimate is if the fire was very small and far away from the city resulting in negligible impact."
   ]
  },
  {
   "cell_type": "code",
   "execution_count": null,
   "id": "9609bbae",
   "metadata": {},
   "outputs": [],
   "source": [
    "wildfire_df = wildfire_df[wildfire_df['Smoke_Estimate_Scaled'] > 10]"
   ]
  },
  {
   "cell_type": "code",
   "execution_count": null,
   "id": "3c90ada5",
   "metadata": {},
   "outputs": [],
   "source": [
    "wildfire_df_grouped = wildfire_df.groupby(\"Fire_Year\")[\"Smoke_Estimate_Scaled\"].mean().reset_index()"
   ]
  },
  {
   "cell_type": "code",
   "execution_count": null,
   "id": "923bf37c",
   "metadata": {},
   "outputs": [],
   "source": [
    "import matplotlib.pyplot as plt\n",
    "wildfire_df_grouped['Fire_Year'] = pd.to_datetime(wildfire_df_grouped['Fire_Year'], format='%Y')\n",
    "wildfire_df_grouped.set_index('Fire_Year', inplace=True)\n",
    "plt.figure(figsize=(12, 6))\n",
    "plt.plot(wildfire_df_grouped['Smoke_Estimate_Scaled'])\n",
    "plt.title('Smoke Estimate Over Time')\n",
    "plt.xlabel('Year')\n",
    "plt.ylabel('Smoke Estimate')\n",
    "plt.show()"
   ]
  },
  {
   "cell_type": "markdown",
   "id": "ec26dd39",
   "metadata": {},
   "source": [
    "Autoregressive integrated moving average (ARIMA) models predict future values based on past values. ARIMA makes use of lagged moving averages to smooth time series data. They are widely used in technical analysis to forecast future values. ARIMA is widely used in use cases where the data does not exhibit any seasonality or trends which is why I thought that this model would be appropriate in this case."
   ]
  },
  {
   "cell_type": "code",
   "execution_count": null,
   "id": "bbf2735a",
   "metadata": {},
   "outputs": [],
   "source": [
    "from statsmodels.tsa.arima.model import ARIMA\n",
    "import pandas as pd\n",
    "\n",
    "alpha = 0.2\n",
    "model = ARIMA(wildfire_df_grouped, order=(5,1,0))\n",
    "model_fit = model.fit()\n",
    "\n",
    "forecast = model_fit.forecast(25)"
   ]
  },
  {
   "cell_type": "code",
   "execution_count": 161,
   "id": "7ffef87b",
   "metadata": {},
   "outputs": [],
   "source": [
    "forecast_df = pd.DataFrame(forecast)"
   ]
  },
  {
   "cell_type": "code",
   "execution_count": null,
   "id": "8417ff21",
   "metadata": {},
   "outputs": [],
   "source": [
    "wildfire_df['Distance'].describe()"
   ]
  },
  {
   "cell_type": "markdown",
   "id": "8940b4d9",
   "metadata": {},
   "source": [
    "This graph is a histogram showing the number of fires occurring every 50 mile distance from Benicia, California up to the max specified distance. The x-axis represents the distance in miles from the assigned city. The distances are divided into 50-mile intervals. Each interval is represented by a bar on the histogram. The y-axis represents the count or frequency of fires that occurred within each 50-mile distance interval. It shows how many fires were recorded in each specific range. Each bar in the histogram represents one of the 50-mile distance intervals. The height of each bar corresponds to the number of fires that occurred in that distance range."
   ]
  },
  {
   "cell_type": "code",
   "execution_count": null,
   "id": "89d7488e",
   "metadata": {},
   "outputs": [],
   "source": [
    "bin_edges = list(range(0, 1250, 50))  # From 0 to 600 miles with 50-mile intervals\n",
    "\n",
    "# Create the histogram\n",
    "plt.hist(wildfire_df['Distance'], bins=bin_edges, edgecolor='k')\n",
    "\n",
    "# Set plot labels and title\n",
    "plt.xlabel('Distance (miles)')\n",
    "plt.ylabel('Number of Fires')\n",
    "plt.title('Histogram of Fires by Distance')\n",
    "\n",
    "# Show the plot\n",
    "plt.show()"
   ]
  },
  {
   "cell_type": "markdown",
   "id": "b4799ecd",
   "metadata": {},
   "source": [
    "This graph is a time series graph of total acres burned per year for the fires occurring in the specified distance from Benicia, California.  The x-axis represents the years during which the fires occurred. Each year is marked along the x-axis, allowing viewers to follow the progression of time. The y-axis represents the total acres burned by fires each year. The units on the y-axis indicate the scale of the total acres burned, which is the variable being measured. "
   ]
  },
  {
   "cell_type": "code",
   "execution_count": null,
   "id": "147b0fb9",
   "metadata": {},
   "outputs": [],
   "source": [
    "# Group data by 'Fire_Year' and calculate the total acres burned per year\n",
    "acres_burned_per_year = wildfire_df.groupby('Fire_Year')['GIS_Acres'].sum()\n",
    "\n",
    "# Create the time series graph\n",
    "plt.figure(figsize=(10, 6))\n",
    "acres_burned_per_year.plot(kind='line', marker='o', linestyle='-', color='b')\n",
    "plt.xlabel('Year')\n",
    "plt.ylabel('Total Acres Burned')\n",
    "plt.title('Time Series of Total Acres Burned per Year')\n",
    "plt.grid(True)\n",
    "\n",
    "# Show the plot\n",
    "plt.show()"
   ]
  },
  {
   "cell_type": "code",
   "execution_count": null,
   "id": "41d22072",
   "metadata": {},
   "outputs": [],
   "source": [
    "#load the AQI data from the file\n",
    "with open(\"aqi.json\", 'r') as json_file:\n",
    "    aqi_dict = json.load(json_file)"
   ]
  },
  {
   "cell_type": "code",
   "execution_count": null,
   "id": "819d9850",
   "metadata": {},
   "outputs": [],
   "source": [
    "aqi = pd.DataFrame.from_dict(aqi_dict, orient='index', columns = [\"AQI\"]).reset_index()\n",
    "aqi[\"Fire_Year\"] = aqi[\"index\"]\n",
    "aqi[\"Fire_Year\"] = aqi['Fire_Year'].astype(int)"
   ]
  },
  {
   "cell_type": "code",
   "execution_count": null,
   "id": "d035f5e1",
   "metadata": {},
   "outputs": [],
   "source": [
    "smoke_est = temp.groupby(\"Fire_Year\")[\"Smoke_Estimate_Scaled\"].mean().reset_index()\n",
    "smoke_est[\"Fire_Year\"] = smoke_est['Fire_Year'].astype(int)"
   ]
  },
  {
   "cell_type": "code",
   "execution_count": null,
   "id": "c0f17027",
   "metadata": {},
   "outputs": [],
   "source": [
    "#merge the two datasets for ease of use for visualizations\n",
    "merged_df = pd.merge(smoke_est, aqi, on=\"Fire_Year\")"
   ]
  },
  {
   "cell_type": "markdown",
   "id": "0fc056d3",
   "metadata": {},
   "source": [
    "This graph is a time series graph containing your fire smoke estimate and the AQI estimate for Benicia, CA. The x-axis represents the years during which the fires occurred. The Y-axis represents the estimated smoke impact on the city of Benicia. The orange graph represents the AQI. The Air Quality Index is EPA’s index for reporting air quality. The blue graph represents the smoke estimate that I calculated by dividing the area across which the wildfire had spread by the distance from the fire."
   ]
  },
  {
   "cell_type": "code",
   "execution_count": null,
   "id": "de8878d0",
   "metadata": {},
   "outputs": [],
   "source": [
    "# Create the time series graph\n",
    "\n",
    "merged_df['Fire_Year'] = pd.to_datetime(merged_df['Fire_Year'])\n",
    "\n",
    "# Create the time series graph\n",
    "plt.figure(figsize=(15, 7))\n",
    "plt.plot(merged_df['Fire_Year'], merged_df['Smoke_Estimate_Scaled'], label='Fire Smoke Estimate', marker='o', linestyle='-')\n",
    "plt.plot(merged_df['Fire_Year'], merged_df['AQI'], label='AQI Estimate', marker='o', linestyle='-')\n",
    "\n",
    "# Set labels and title\n",
    "plt.xlabel('Year')\n",
    "plt.ylabel('Estimate')\n",
    "plt.title('Time Series of Fire Smoke Estimate and AQI Estimate')\n",
    "plt.legend()\n",
    "\n",
    "# Show the graph\n",
    "plt.grid(True)\n",
    "plt.show()"
   ]
  },
  {
   "cell_type": "code",
   "execution_count": null,
   "id": "4d0b2a47",
   "metadata": {},
   "outputs": [],
   "source": []
  }
 ],
 "metadata": {
  "kernelspec": {
   "display_name": "Python 3 (ipykernel)",
   "language": "python",
   "name": "python3"
  },
  "language_info": {
   "codemirror_mode": {
    "name": "ipython",
    "version": 3
   },
   "file_extension": ".py",
   "mimetype": "text/x-python",
   "name": "python",
   "nbconvert_exporter": "python",
   "pygments_lexer": "ipython3",
   "version": "3.10.8"
  }
 },
 "nbformat": 4,
 "nbformat_minor": 5
}
